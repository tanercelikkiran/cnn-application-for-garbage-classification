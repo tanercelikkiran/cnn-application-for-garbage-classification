{
  "cells": [
    {
      "cell_type": "markdown",
      "metadata": {
        "id": "MXZya-PQdP8H"
      },
      "source": [
        "# CNN Application for Garbage Classifying"
      ]
    },
    {
      "cell_type": "markdown",
      "metadata": {
        "id": "la3zQiFDdEQh"
      },
      "source": [
        "## 1. Import the libraries"
      ]
    },
    {
      "cell_type": "code",
      "execution_count": 10,
      "metadata": {
        "id": "zmklzK3o4OXu"
      },
      "outputs": [],
      "source": [
        "import tensorflow as tf\n",
        "import pathlib"
      ]
    },
    {
      "cell_type": "markdown",
      "metadata": {
        "id": "vdVXoM0edLyW"
      },
      "source": [
        "## 2. Load the dataset"
      ]
    },
    {
      "cell_type": "code",
      "execution_count": null,
      "metadata": {
        "id": "OuapU7ondCCz"
      },
      "outputs": [],
      "source": [
        "def load_data():\n",
        "    data_dir = pathlib.Path(\"./Garbage classification/Garbage classification\")\n",
        "    img_height = 224\n",
        "    img_width = 224\n",
        "    \n",
        "    # For different datasets, you can change the seeds to get different splits\n",
        "    # and therefore different models. Current seeds are chosen arbitrarily.\n",
        "\n",
        "    train_ds = tf.keras.preprocessing.image_dataset_from_directory(\n",
        "        data_dir,\n",
        "        validation_split=0.2,\n",
        "        subset=\"training\",\n",
        "        seed=43985098,\n",
        "        image_size=(img_height, img_width),\n",
        "        class_names = ['cardboard', 'glass', 'metal', 'paper', 'plastic', 'trash']\n",
        "    )\n",
        "\n",
        "    val_ds = tf.keras.preprocessing.image_dataset_from_directory(\n",
        "        data_dir,\n",
        "        validation_split=0.2,\n",
        "        subset=\"validation\",\n",
        "        seed=9875259,\n",
        "        image_size=(img_height, img_width),\n",
        "        class_names = ['cardboard', 'glass', 'metal', 'paper', 'plastic', 'trash']\n",
        "    )\n",
        "\n",
        "    test_ds = tf.keras.preprocessing.image_dataset_from_directory(\n",
        "        data_dir,\n",
        "        validation_split=0.2,\n",
        "        subset=\"validation\",\n",
        "        seed=87968745,\n",
        "        image_size=(img_height, img_width),\n",
        "        class_names = ['cardboard', 'glass', 'metal', 'paper', 'plastic', 'trash']\n",
        "    )\n",
        "\n",
        "    return train_ds, val_ds, test_ds"
      ]
    },
    {
      "cell_type": "markdown",
      "metadata": {
        "id": "P7I-Im0edkOc"
      },
      "source": [
        "## 3. Generate the model"
      ]
    },
    {
      "cell_type": "code",
      "execution_count": 12,
      "metadata": {
        "id": "RJiT52ardPWv"
      },
      "outputs": [],
      "source": [
        "def generate_model():\n",
        "    model = tf.keras.Sequential([\n",
        "        tf.keras.layers.experimental.preprocessing.Rescaling(1./255, input_shape=(224, 224, 3)),\n",
        "        tf.keras.layers.Conv2D(32, 3, activation='relu'),\n",
        "        tf.keras.layers.MaxPooling2D(pool_size=2, strides=2),\n",
        "        tf.keras.layers.Conv2D(64, 3, activation='relu'),\n",
        "        tf.keras.layers.MaxPooling2D(pool_size=2, strides=2),\n",
        "        tf.keras.layers.Conv2D(32, 3, activation='relu'),\n",
        "        tf.keras.layers.MaxPooling2D(pool_size=2, strides=2),\n",
        "        tf.keras.layers.Flatten(),\n",
        "        tf.keras.layers.Dense(512, activation='relu'),\n",
        "        tf.keras.layers.Dropout(0.25),\n",
        "        tf.keras.layers.Dense(128, activation='relu'),\n",
        "        tf.keras.layers.Dropout(0.25),\n",
        "        tf.keras.layers.Dense(6, activation='softmax')\n",
        "    ])\n",
        "    return model"
      ]
    },
    {
      "cell_type": "markdown",
      "metadata": {
        "id": "mLLa04wCfY-F"
      },
      "source": [
        "## 4. Train the model"
      ]
    },
    {
      "cell_type": "code",
      "execution_count": 13,
      "metadata": {
        "id": "tNYp7v57fexJ"
      },
      "outputs": [],
      "source": [
        "def train_model(model, train_ds, val_ds):\n",
        "    model.compile(optimizer='adam',\n",
        "                loss='sparse_categorical_crossentropy',\n",
        "                metrics=['accuracy'])\n",
        "    #You can change the epochs value from here. More\n",
        "    #epochs value will give you more precise accuracy.\n",
        "    model.fit(train_ds, validation_data=val_ds, epochs=15)\n",
        "    return model\n"
      ]
    },
    {
      "cell_type": "markdown",
      "metadata": {
        "id": "FRFBAGDIflpf"
      },
      "source": [
        "## 5. Predict the model through testing"
      ]
    },
    {
      "cell_type": "code",
      "execution_count": 14,
      "metadata": {
        "id": "T3HIQUOyf9XC"
      },
      "outputs": [],
      "source": [
        "def predict(model, test_ds):\n",
        "    test_loss, test_acc = model.evaluate(test_ds)\n",
        "    print('#'*35)\n",
        "    print('Test accuracy:', test_acc*100)\n",
        "    print('#'*35)\n",
        "    print('Test loss:', test_loss*100)\n",
        "    print('#'*35)"
      ]
    },
    {
      "cell_type": "markdown",
      "metadata": {
        "id": "ijGv6e8lgBM6"
      },
      "source": [
        "## 6. Start\n",
        "\n",
        "\n"
      ]
    },
    {
      "cell_type": "code",
      "execution_count": 15,
      "metadata": {
        "colab": {
          "base_uri": "https://localhost:8080/",
          "height": 345
        },
        "id": "jPGGkzAUgRv-",
        "outputId": "448969f9-72dd-461c-f12b-87c84652c47a"
      },
      "outputs": [
        {
          "name": "stdout",
          "output_type": "stream",
          "text": [
            "Found 2527 files belonging to 6 classes.\n",
            "Using 2022 files for training.\n",
            "Found 2527 files belonging to 6 classes.\n",
            "Using 505 files for validation.\n",
            "Found 2527 files belonging to 6 classes.\n",
            "Using 505 files for validation.\n",
            "64/64 [==============================] - 61s 937ms/step - loss: 1.6695 - accuracy: 0.2977 - val_loss: 1.4526 - val_accuracy: 0.3624\n",
            "16/16 [==============================] - 2s 141ms/step - loss: 1.5159 - accuracy: 0.3327\n",
            "###################################\n",
            "Test accuracy: 33.26732814311981\n",
            "###################################\n",
            "Test loss: 151.59016847610474\n",
            "###################################\n"
          ]
        }
      ],
      "source": [
        "def main():\n",
        "    train_ds, val_ds, test_ds = load_data()\n",
        "    model = generate_model()\n",
        "    model = train_model(model, train_ds, val_ds)\n",
        "    predict(model, test_ds)\n",
        "\n",
        "main()"
      ]
    }
  ],
  "metadata": {
    "colab": {
      "provenance": []
    },
    "kernelspec": {
      "display_name": "Python 3",
      "name": "python3"
    },
    "language_info": {
      "codemirror_mode": {
        "name": "ipython",
        "version": 3
      },
      "file_extension": ".py",
      "mimetype": "text/x-python",
      "name": "python",
      "nbconvert_exporter": "python",
      "pygments_lexer": "ipython3",
      "version": "3.11.2"
    }
  },
  "nbformat": 4,
  "nbformat_minor": 0
}
